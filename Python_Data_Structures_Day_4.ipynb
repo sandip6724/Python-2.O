{
  "cells": [
    {
      "cell_type": "markdown",
      "metadata": {
        "id": "gZpXksJpDhuW"
      },
      "source": [
        "# Tuple\n",
        "They are used to store multiple items in a single variable.\n",
        "\n",
        "A tuple is a collection which is ordered and unchangeable.\n",
        "It is written with round brackets."
      ]
    },
    {
      "cell_type": "code",
      "execution_count": 1,
      "metadata": {
        "colab": {
          "base_uri": "https://localhost:8080/"
        },
        "id": "Iqd80mJHDU6O",
        "outputId": "59f39538-770f-41aa-c81d-292a96a91d40"
      },
      "outputs": [
        {
          "name": "stdout",
          "output_type": "stream",
          "text": [
            "('apple', 'banana', 'cherry')\n"
          ]
        }
      ],
      "source": [
        "fruits = (\"apple\", \"banana\", \"cherry\")                           # Standard Method\n",
        "print(fruits)"
      ]
    },
    {
      "cell_type": "code",
      "execution_count": 2,
      "metadata": {
        "id": "WBGIsRXo6hqL"
      },
      "outputs": [],
      "source": [
        "ints = tuple([1,2,3,4,5,9,7,2,0])                                 # Function Method"
      ]
    },
    {
      "cell_type": "code",
      "execution_count": 3,
      "metadata": {
        "colab": {
          "base_uri": "https://localhost:8080/"
        },
        "id": "A7XgimGxT191",
        "outputId": "f319a89b-03f8-4de0-fcfa-8dd7e18d99af"
      },
      "outputs": [
        {
          "data": {
            "text/plain": [
              "(1, 2, 3, 4, 5, 9, 7, 2, 0)"
            ]
          },
          "execution_count": 3,
          "metadata": {},
          "output_type": "execute_result"
        }
      ],
      "source": [
        "ints"
      ]
    },
    {
      "cell_type": "code",
      "execution_count": 4,
      "metadata": {
        "colab": {
          "base_uri": "https://localhost:8080/"
        },
        "id": "qY886OHhDU7b",
        "outputId": "c3b68af3-acda-4691-bf0b-5d8853ba0a27"
      },
      "outputs": [
        {
          "name": "stdout",
          "output_type": "stream",
          "text": [
            "('apple', 'banana', 'cherry', 'banana')\n"
          ]
        }
      ],
      "source": [
        "fruits = (\"apple\", \"banana\", \"cherry\",\"banana\")                  # Allows Duplicates\n",
        "print(fruits)"
      ]
    },
    {
      "cell_type": "code",
      "execution_count": 5,
      "metadata": {
        "colab": {
          "base_uri": "https://localhost:8080/"
        },
        "id": "Nd0TN_oGDU-E",
        "outputId": "90daff6a-8c63-49e0-e825-7ab58a0be3f4"
      },
      "outputs": [
        {
          "data": {
            "text/plain": [
              "1"
            ]
          },
          "execution_count": 5,
          "metadata": {},
          "output_type": "execute_result"
        }
      ],
      "source": [
        "# Count() Method\n",
        "\n",
        "nums = (1, 3, 7, 8, 7, 5, 4, 6, 8, 5)\n",
        "\n",
        "nums.count(6)"
      ]
    },
    {
      "cell_type": "code",
      "execution_count": 6,
      "metadata": {
        "colab": {
          "base_uri": "https://localhost:8080/"
        },
        "id": "l__lbM1FDU_K",
        "outputId": "19409d43-e69d-4522-e7d2-4783744f0e6a"
      },
      "outputs": [
        {
          "data": {
            "text/plain": [
              "5"
            ]
          },
          "execution_count": 6,
          "metadata": {},
          "output_type": "execute_result"
        }
      ],
      "source": [
        "# Index() Method\n",
        "\n",
        "nums = (1, 3, 7, 8, 7, 5, 4, 6, 8, 5)\n",
        "\n",
        "nums.index(5)"
      ]
    },
    {
      "cell_type": "code",
      "execution_count": 7,
      "metadata": {
        "colab": {
          "base_uri": "https://localhost:8080/"
        },
        "id": "teP82ThiDVDq",
        "outputId": "89f364a0-c912-486d-ad3c-770f8cc2a0a0"
      },
      "outputs": [
        {
          "data": {
            "text/plain": [
              "1"
            ]
          },
          "execution_count": 7,
          "metadata": {},
          "output_type": "execute_result"
        }
      ],
      "source": [
        "# Min() & Max() Method\n",
        "\n",
        "nums = (1, 3, 7, 99, 7, 5, 4, 6, 8, 5)\n",
        "\n",
        "min(nums)\n",
        "# max(nums)"
      ]
    },
    {
      "cell_type": "code",
      "execution_count": null,
      "metadata": {
        "id": "WJHglZrBDVEx"
      },
      "outputs": [],
      "source": []
    },
    {
      "cell_type": "code",
      "execution_count": null,
      "metadata": {
        "id": "V02MFe3NDVHw"
      },
      "outputs": [],
      "source": []
    },
    {
      "cell_type": "code",
      "execution_count": null,
      "metadata": {
        "id": "rR9NWQyrDVMy"
      },
      "outputs": [],
      "source": []
    },
    {
      "cell_type": "markdown",
      "metadata": {
        "id": "LCiQCPXMHUCY"
      },
      "source": [
        "# Dictionary\n",
        "Dictionaries are used to store data values in key:value pairs.\n",
        "\n",
        "A dictionary is a collection which is ordered*, changeable and do not allow duplicates."
      ]
    },
    {
      "cell_type": "code",
      "execution_count": 8,
      "metadata": {
        "colab": {
          "base_uri": "https://localhost:8080/"
        },
        "id": "j9SIaZ1tHlRH",
        "outputId": "1a8ee51b-ae99-4302-8478-e901d18cfc19"
      },
      "outputs": [
        {
          "data": {
            "text/plain": [
              "dict_values(['Ford', 'Mustang', 1964])"
            ]
          },
          "execution_count": 8,
          "metadata": {},
          "output_type": "execute_result"
        }
      ],
      "source": [
        "car = {\"brand\": \"Ford\",\"model\": \"Mustang\",\"year\": 1964}\n",
        "\n",
        "# # Get() Method\n",
        "car.get(\"year\")\n",
        "\n",
        "# # items() Method\n",
        "car.items()\n",
        "\n",
        "# # key() Method\n",
        "car.keys()\n",
        "\n",
        "# # values() Method\n",
        "car.values()"
      ]
    },
    {
      "cell_type": "code",
      "execution_count": 9,
      "metadata": {
        "colab": {
          "base_uri": "https://localhost:8080/"
        },
        "id": "RDfpSdd3IfS3",
        "outputId": "14d3b78d-e14d-4f26-dcc7-9ccc738f2c63"
      },
      "outputs": [
        {
          "name": "stdout",
          "output_type": "stream",
          "text": [
            "{'brand': 'Ford', 'model': 'Mustang'}\n",
            "{'brand': 'Ford'}\n"
          ]
        }
      ],
      "source": [
        "# pop() Method\n",
        "# car\n",
        "car.pop(\"year\")\n",
        "print(car)\n",
        "\n",
        "# popitem() Method\n",
        "\n",
        "car.popitem()\n",
        "print(car)"
      ]
    },
    {
      "cell_type": "code",
      "execution_count": null,
      "metadata": {
        "id": "pW_ij1b2_fdU"
      },
      "outputs": [],
      "source": []
    },
    {
      "cell_type": "code",
      "execution_count": null,
      "metadata": {
        "id": "2eTVgnuh_fgp"
      },
      "outputs": [],
      "source": []
    },
    {
      "cell_type": "code",
      "execution_count": 10,
      "metadata": {
        "colab": {
          "base_uri": "https://localhost:8080/"
        },
        "id": "dO9J8a-IIfVH",
        "outputId": "262b7196-e548-4031-e87d-4c2efcb91803"
      },
      "outputs": [
        {
          "name": "stdout",
          "output_type": "stream",
          "text": [
            "{'brand': 'Ford', 'color': 'White'}\n"
          ]
        }
      ],
      "source": [
        "# update() Method\n",
        "\n",
        "car.update({\"color\": \"White\"})\n",
        "print(car)"
      ]
    },
    {
      "cell_type": "code",
      "execution_count": 11,
      "metadata": {
        "colab": {
          "base_uri": "https://localhost:8080/"
        },
        "id": "j2tgmm9TBxOB",
        "outputId": "3cf40a5a-5495-4895-ab87-65f5b1d655d9"
      },
      "outputs": [
        {
          "data": {
            "text/plain": [
              "{'brand': 'Ford', 'color': 'White'}"
            ]
          },
          "execution_count": 11,
          "metadata": {},
          "output_type": "execute_result"
        }
      ],
      "source": [
        "car"
      ]
    },
    {
      "cell_type": "code",
      "execution_count": 12,
      "metadata": {
        "id": "IFrOPO54Ifc2"
      },
      "outputs": [],
      "source": [
        "# clear() Method\n",
        "\n",
        "car.clear()\n",
        "# print(car)"
      ]
    },
    {
      "cell_type": "code",
      "execution_count": 13,
      "metadata": {
        "colab": {
          "base_uri": "https://localhost:8080/"
        },
        "id": "qUJPAE08IffH",
        "outputId": "636a720a-7218-4079-c233-57e99ccbf4ec"
      },
      "outputs": [
        {
          "data": {
            "text/plain": [
              "{}"
            ]
          },
          "execution_count": 13,
          "metadata": {},
          "output_type": "execute_result"
        }
      ],
      "source": [
        "car"
      ]
    },
    {
      "cell_type": "code",
      "execution_count": null,
      "metadata": {
        "id": "sqAYKQzQIfhN"
      },
      "outputs": [],
      "source": []
    },
    {
      "cell_type": "code",
      "execution_count": null,
      "metadata": {
        "id": "z77jEOQBIfip"
      },
      "outputs": [],
      "source": []
    },
    {
      "cell_type": "code",
      "execution_count": null,
      "metadata": {
        "id": "U4hvVN24IfkZ"
      },
      "outputs": [],
      "source": []
    },
    {
      "cell_type": "markdown",
      "metadata": {
        "id": "siU6lzgaXqnX"
      },
      "source": [
        "# Set\n",
        "Sets are used to store multiple items in a single variable.\n",
        "\n",
        "Sets are written with curly brackets."
      ]
    },
    {
      "cell_type": "code",
      "execution_count": 14,
      "metadata": {
        "id": "lBkSujMxXn3a"
      },
      "outputs": [],
      "source": [
        "# fruits = {\"apple\", \"banana\", \"cherry\"}\n",
        "\n",
        "# # add()\n",
        "\n",
        "# fruits.add(\"orange\")\n",
        "# print(fruits)\n",
        "\n",
        "# # pop()\n",
        "\n",
        "# fruits.pop()\n",
        "# print(fruits)\n",
        "\n",
        "# # remove()\n",
        "\n",
        "# fruits.remove(\"cherry\")\n",
        "# print(fruits)"
      ]
    },
    {
      "cell_type": "code",
      "execution_count": 15,
      "metadata": {
        "colab": {
          "base_uri": "https://localhost:8080/"
        },
        "id": "ZTxBoPB2FMQg",
        "outputId": "5135b9f8-46a6-4033-ed86-b73ff32c3694"
      },
      "outputs": [
        {
          "data": {
            "text/plain": [
              "tuple"
            ]
          },
          "execution_count": 15,
          "metadata": {},
          "output_type": "execute_result"
        }
      ],
      "source": [
        "type(fruits)"
      ]
    },
    {
      "cell_type": "code",
      "execution_count": null,
      "metadata": {
        "id": "Bvqj4hM-FMT7"
      },
      "outputs": [],
      "source": []
    },
    {
      "cell_type": "code",
      "execution_count": 16,
      "metadata": {
        "colab": {
          "base_uri": "https://localhost:8080/"
        },
        "id": "EQiwdMbPXn5a",
        "outputId": "395b6b75-5906-43e4-c792-f21c51d7b1e8"
      },
      "outputs": [
        {
          "name": "stdout",
          "output_type": "stream",
          "text": [
            "{'microsoft', 'google'}\n"
          ]
        }
      ],
      "source": [
        "fruits = {\"apple\", \"banana\", \"cherry\"}\n",
        "company = {\"google\", \"microsoft\", \"apple\"}\n",
        "\n",
        "# difference()\n",
        "\n",
        "print(company.difference(fruits))       # Output will be from LHS of dot set only"
      ]
    },
    {
      "cell_type": "code",
      "execution_count": 17,
      "metadata": {
        "colab": {
          "base_uri": "https://localhost:8080/"
        },
        "id": "LfL5Uq5wXn9N",
        "outputId": "ba25efcf-5d1c-431e-f338-3d19d9ec3ec8"
      },
      "outputs": [
        {
          "name": "stdout",
          "output_type": "stream",
          "text": [
            "{'apple'}\n"
          ]
        }
      ],
      "source": [
        "# intersection()\n",
        "\n",
        "print(company.intersection(fruits))      # Print common element from both the sets"
      ]
    },
    {
      "cell_type": "code",
      "execution_count": 18,
      "metadata": {
        "colab": {
          "base_uri": "https://localhost:8080/"
        },
        "id": "jq3zTuIZXoAa",
        "outputId": "15cd7fea-6195-4ad4-f4ef-7f25071595b3"
      },
      "outputs": [
        {
          "name": "stdout",
          "output_type": "stream",
          "text": [
            "{'google', 'banana', 'microsoft', 'apple', 'cherry'}\n"
          ]
        }
      ],
      "source": [
        "# union()\n",
        "\n",
        "print(company.union(fruits))        # Combine both sets together to form new set"
      ]
    },
    {
      "cell_type": "code",
      "execution_count": 19,
      "metadata": {
        "id": "WJNBBW33XoCN"
      },
      "outputs": [],
      "source": [
        "# update()\n",
        "\n",
        "company.update(fruits)"
      ]
    },
    {
      "cell_type": "code",
      "execution_count": 20,
      "metadata": {
        "colab": {
          "base_uri": "https://localhost:8080/"
        },
        "id": "x9X5RfXZXoD5",
        "outputId": "9b0692ec-1d06-4a2d-c4e6-50b842a4ca46"
      },
      "outputs": [
        {
          "data": {
            "text/plain": [
              "{'apple', 'banana', 'cherry'}"
            ]
          },
          "execution_count": 20,
          "metadata": {},
          "output_type": "execute_result"
        }
      ],
      "source": [
        "fruits"
      ]
    },
    {
      "cell_type": "code",
      "execution_count": 21,
      "metadata": {
        "colab": {
          "base_uri": "https://localhost:8080/"
        },
        "id": "nKchQh8eXoFs",
        "outputId": "f421982b-07d0-45ba-9439-108bb207bcb9"
      },
      "outputs": [
        {
          "data": {
            "text/plain": [
              "{'apple', 'banana', 'cherry', 'google', 'microsoft'}"
            ]
          },
          "execution_count": 21,
          "metadata": {},
          "output_type": "execute_result"
        }
      ],
      "source": [
        "company"
      ]
    },
    {
      "cell_type": "code",
      "execution_count": null,
      "metadata": {
        "id": "VXD70DC9Jd-R"
      },
      "outputs": [],
      "source": []
    }
  ],
  "metadata": {
    "colab": {
      "provenance": []
    },
    "kernelspec": {
      "display_name": "Python 3",
      "name": "python3"
    },
    "language_info": {
      "codemirror_mode": {
        "name": "ipython",
        "version": 3
      },
      "file_extension": ".py",
      "mimetype": "text/x-python",
      "name": "python",
      "nbconvert_exporter": "python",
      "pygments_lexer": "ipython3",
      "version": "3.12.0"
    }
  },
  "nbformat": 4,
  "nbformat_minor": 0
}
