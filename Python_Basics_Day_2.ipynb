{
  "nbformat": 4,
  "nbformat_minor": 0,
  "metadata": {
    "colab": {
      "provenance": []
    },
    "kernelspec": {
      "name": "python3",
      "display_name": "Python 3"
    },
    "language_info": {
      "name": "python"
    }
  },
  "cells": [
    {
      "cell_type": "markdown",
      "source": [
        "\n",
        "# List and it's Methods\n",
        "\n",
        "Lists are used to store multiple items in a single variable.\n",
        "\n",
        "*   Lists are used to store multiple items in a single variable.\n",
        "*   It is a collection which is ordered, changeable and allows duplicate members.\n",
        "\n",
        "**List Methods**\n",
        "\n",
        "\n",
        "append(), sort(), reverse(), remove(), pop(), insert(), index(), extend(), count(), copy(), clear()\n",
        "\n",
        "\n",
        "\n",
        "\n",
        "\n"
      ],
      "metadata": {
        "id": "1P1jdwht7AjD"
      }
    },
    {
      "cell_type": "code",
      "source": [
        "# fruits = ['apple', 'cherry', 'banana']\n",
        "\n",
        "# fruits.append(\"orange\")\n",
        "# fruits.sort()\n",
        "# fruits.reverse()\n",
        "# fruits.remove(\"banana\")\n",
        "# fruits.pop(1)\n",
        "# fruits.insert(1, \"watermelon\")\n",
        "# fruits.index(\"orange\")\n",
        "\n",
        "# others = ['pineapple', 'strawaberry', 'guava','cherry','pineapple']\n",
        "\n",
        "# fruits.extend(others)\n",
        "# fruits.count(\"cherry\")\n",
        "# fruits.copy()\n",
        "# fruits.clear()"
      ],
      "metadata": {
        "id": "9ks2pSF96rTZ"
      },
      "execution_count": null,
      "outputs": []
    },
    {
      "cell_type": "code",
      "source": [
        "# fruits"
      ],
      "metadata": {
        "id": "48CrCwoH6rW0"
      },
      "execution_count": null,
      "outputs": []
    },
    {
      "cell_type": "code",
      "source": [
        "# fruits.pop(0)"
      ],
      "metadata": {
        "id": "HXZXeG5vgEoR"
      },
      "execution_count": null,
      "outputs": []
    },
    {
      "cell_type": "code",
      "source": [
        "# fruits_2"
      ],
      "metadata": {
        "id": "JquTuL9vd1xy"
      },
      "execution_count": null,
      "outputs": []
    },
    {
      "cell_type": "code",
      "source": [],
      "metadata": {
        "id": "MPcoGqTGd18a"
      },
      "execution_count": null,
      "outputs": []
    },
    {
      "cell_type": "code",
      "source": [],
      "metadata": {
        "id": "Q5uWH0j8d2FJ"
      },
      "execution_count": null,
      "outputs": []
    },
    {
      "cell_type": "code",
      "source": [],
      "metadata": {
        "id": "PrT54CS5d2NH"
      },
      "execution_count": null,
      "outputs": []
    },
    {
      "cell_type": "code",
      "source": [],
      "metadata": {
        "id": "TEMdAmlYd2Ud"
      },
      "execution_count": null,
      "outputs": []
    },
    {
      "cell_type": "markdown",
      "source": [
        "# String and it's Methods\n",
        "\n",
        "*   All string methods returns new values. They do not change the original string.\n",
        "\n",
        "**String Methods**\n",
        "\n",
        "\n",
        "*   isalpha(), isalnum(), index(), find(), count(), capitalize(), isdigit(), islower(), isnumeric()\n",
        "*   endswith(), upper(), title(), swapcase(), strip(), startswith(), split(), join(), lower(), replace()"
      ],
      "metadata": {
        "id": "1CeUtg8TA_jj"
      }
    },
    {
      "cell_type": "code",
      "source": [
        "txt = \"hello, and welcome to our course.\"\n",
        "a = txt.capitalize()\n",
        "# print(a)\n",
        "\n",
        "txt = \"I am from India and born in Maharashtra, India\"\n",
        "b = txt.count(\"India\")\n",
        "# print(b)\n",
        "\n",
        "txt = \"I love apples, apple are my favorite fruit\"\n",
        "c = txt.find(\"banana\")\n",
        "# print(c)\n",
        "\n",
        "# d = txt.index(\"banana\")\n",
        "# print(d)\n",
        "\n",
        "txt = \"hello, my name is Peter, I am 26 years old\"\n",
        "e = txt.split(',')\n",
        "print(e)"
      ],
      "metadata": {
        "id": "cgSVsDxU6rc8",
        "colab": {
          "base_uri": "https://localhost:8080/"
        },
        "outputId": "1465cfd1-0130-4675-9a9b-6a748e2774c1"
      },
      "execution_count": null,
      "outputs": [
        {
          "output_type": "stream",
          "name": "stdout",
          "text": [
            "['hello', ' my name is Peter', ' I am 26 years old']\n"
          ]
        }
      ]
    },
    {
      "cell_type": "code",
      "source": [],
      "metadata": {
        "id": "LxsAlmWxrquh"
      },
      "execution_count": null,
      "outputs": []
    },
    {
      "cell_type": "code",
      "source": [],
      "metadata": {
        "id": "-yPlXfrcrqw9"
      },
      "execution_count": null,
      "outputs": []
    },
    {
      "cell_type": "code",
      "source": [],
      "metadata": {
        "id": "MN0HLORFrq0V"
      },
      "execution_count": null,
      "outputs": []
    },
    {
      "cell_type": "code",
      "source": [
        "txt = \"I love apples, apple is my favorite fruit\""
      ],
      "metadata": {
        "id": "tkFZpxvArlgJ"
      },
      "execution_count": null,
      "outputs": []
    },
    {
      "cell_type": "code",
      "source": [
        "txt.find('banana')"
      ],
      "metadata": {
        "colab": {
          "base_uri": "https://localhost:8080/"
        },
        "id": "snLltyXmrr3R",
        "outputId": "b67de2df-0b4c-42ce-930c-da48965972e1"
      },
      "execution_count": null,
      "outputs": [
        {
          "output_type": "execute_result",
          "data": {
            "text/plain": [
              "-1"
            ]
          },
          "metadata": {},
          "execution_count": 72
        }
      ]
    },
    {
      "cell_type": "code",
      "source": [
        "txt.index('banana')"
      ],
      "metadata": {
        "colab": {
          "base_uri": "https://localhost:8080/",
          "height": 169
        },
        "id": "P1yMe6e0rr5t",
        "outputId": "cb67c6e0-9f2e-424c-92e0-8e8cc314ab89"
      },
      "execution_count": null,
      "outputs": [
        {
          "output_type": "error",
          "ename": "ValueError",
          "evalue": "ignored",
          "traceback": [
            "\u001b[0;31m---------------------------------------------------------------------------\u001b[0m",
            "\u001b[0;31mValueError\u001b[0m                                Traceback (most recent call last)",
            "\u001b[0;32m<ipython-input-73-ccdefc052e80>\u001b[0m in \u001b[0;36m<module>\u001b[0;34m\u001b[0m\n\u001b[0;32m----> 1\u001b[0;31m \u001b[0mtxt\u001b[0m\u001b[0;34m.\u001b[0m\u001b[0mindex\u001b[0m\u001b[0;34m(\u001b[0m\u001b[0;34m'banana'\u001b[0m\u001b[0;34m)\u001b[0m\u001b[0;34m\u001b[0m\u001b[0;34m\u001b[0m\u001b[0m\n\u001b[0m",
            "\u001b[0;31mValueError\u001b[0m: substring not found"
          ]
        }
      ]
    },
    {
      "cell_type": "code",
      "source": [],
      "metadata": {
        "id": "SDzvFbNZrr8q"
      },
      "execution_count": null,
      "outputs": []
    },
    {
      "cell_type": "code",
      "source": [],
      "metadata": {
        "id": "PR-YgueQr5_P"
      },
      "execution_count": null,
      "outputs": []
    },
    {
      "cell_type": "code",
      "source": [],
      "metadata": {
        "id": "Z0VtZ-Dpr6CC"
      },
      "execution_count": null,
      "outputs": []
    },
    {
      "cell_type": "code",
      "source": [],
      "metadata": {
        "id": "PZS4PFXgr6FN"
      },
      "execution_count": null,
      "outputs": []
    },
    {
      "cell_type": "code",
      "source": [
        "txt = \"Company12\"\n",
        "name = txt.isalnum()\n",
        "# print(name)\n",
        "\n",
        "txt = \"Company\"\n",
        "alpha = txt.isalpha()\n",
        "# print(alpha)\n",
        "\n",
        "txt = '50800'\n",
        "num = txt.isdigit()\n",
        "# print(num)\n",
        "\n",
        "names = [\"John\", \"Peter\", \"Vicky\"]\n",
        "joined = \"_\".join(names)\n",
        "# print(joined)\n",
        "\n",
        "txt = \"I love sports\"\n",
        "result = txt.replace(\"sports\", \"cricket\")\n",
        "print(result)"
      ],
      "metadata": {
        "id": "4wPE9X9y6rte",
        "colab": {
          "base_uri": "https://localhost:8080/"
        },
        "outputId": "700fa46d-7c10-4b83-f3d6-90d29d31df90"
      },
      "execution_count": null,
      "outputs": [
        {
          "output_type": "stream",
          "name": "stdout",
          "text": [
            "I love cricket\n"
          ]
        }
      ]
    },
    {
      "cell_type": "code",
      "source": [
        "txt = \"Hello, welcome to my world.\"\n",
        "start = txt.startswith(\"Hello\")\n",
        "end = txt.endswith(\".\")"
      ],
      "metadata": {
        "id": "y6bq81tA6rxJ"
      },
      "execution_count": null,
      "outputs": []
    },
    {
      "cell_type": "code",
      "source": [
        "start, end"
      ],
      "metadata": {
        "id": "GyjuncKD6r5u",
        "colab": {
          "base_uri": "https://localhost:8080/"
        },
        "outputId": "65b2332a-a006-44fb-afda-d8c4c61b9640"
      },
      "execution_count": null,
      "outputs": [
        {
          "output_type": "execute_result",
          "data": {
            "text/plain": [
              "(True, True)"
            ]
          },
          "metadata": {},
          "execution_count": 69
        }
      ]
    },
    {
      "cell_type": "code",
      "source": [],
      "metadata": {
        "id": "0_luCZIk6r9W"
      },
      "execution_count": null,
      "outputs": []
    },
    {
      "cell_type": "markdown",
      "source": [
        "# Python Conditional Statements\n",
        "\n",
        "\n",
        "*   If , elif, else statements"
      ],
      "metadata": {
        "id": "wjgI26BME9Qc"
      }
    },
    {
      "cell_type": "code",
      "source": [
        "b , a = 33 , 200\n",
        "\n",
        "# print(b>a)\n",
        "\n",
        "if b > a:\n",
        "  print(\"Entered\")\n",
        "else:\n",
        "  print('Did not entered')"
      ],
      "metadata": {
        "id": "qwjEKo2TE7sj",
        "colab": {
          "base_uri": "https://localhost:8080/"
        },
        "outputId": "4f2aa27d-ba47-4918-9c96-6428a11a5557"
      },
      "execution_count": null,
      "outputs": [
        {
          "output_type": "stream",
          "name": "stdout",
          "text": [
            "Did not entered\n"
          ]
        }
      ]
    },
    {
      "cell_type": "code",
      "source": [
        "aman , vinod = 90 , 80\n",
        "\n",
        "if vinod > aman:\n",
        "  print(\"vinod scores greater than aman\")\n",
        "elif aman == vinod:\n",
        "  print(\"Both scores equally\")"
      ],
      "metadata": {
        "id": "p1umnfvmE7uk"
      },
      "execution_count": null,
      "outputs": []
    },
    {
      "cell_type": "code",
      "source": [
        "if vinod > aman:\n",
        "  print(\"vinod scores greater than aman\")\n",
        "elif aman == vinod:\n",
        "  print(\"Both scores equally\")\n",
        "else:\n",
        "  print('aman scores greater than vinod')"
      ],
      "metadata": {
        "colab": {
          "base_uri": "https://localhost:8080/"
        },
        "id": "bzcR9vgGE7wq",
        "outputId": "9e548e61-1d89-488c-d111-8db13947f0b6"
      },
      "execution_count": null,
      "outputs": [
        {
          "output_type": "stream",
          "name": "stdout",
          "text": [
            "aman scores greater than vinod\n"
          ]
        }
      ]
    },
    {
      "cell_type": "code",
      "source": [
        "marks = 72\n",
        "\n",
        "if marks > 35:\n",
        "  print(\"He is Pass\")\n",
        "  if marks > 60:\n",
        "    print(\"He is in Distinction\")\n",
        "  else:\n",
        "    print(\"He is in Mid Range\")\n",
        "else:\n",
        "  print('Sadly, He is Fail')"
      ],
      "metadata": {
        "colab": {
          "base_uri": "https://localhost:8080/"
        },
        "id": "Wqb480gBE7yq",
        "outputId": "b5ccdc3b-51be-4806-8c5e-ec56ab6f4857"
      },
      "execution_count": null,
      "outputs": [
        {
          "output_type": "stream",
          "name": "stdout",
          "text": [
            "He is Pass\n",
            "He is in Distinction\n"
          ]
        }
      ]
    },
    {
      "cell_type": "code",
      "source": [],
      "metadata": {
        "id": "6uCvQvgBE8ES"
      },
      "execution_count": null,
      "outputs": []
    },
    {
      "cell_type": "code",
      "source": [],
      "metadata": {
        "id": "Q9EVE0q2E8GE"
      },
      "execution_count": null,
      "outputs": []
    }
  ]
}